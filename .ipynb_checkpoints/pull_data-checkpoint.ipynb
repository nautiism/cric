{
 "cells": [
  {
   "cell_type": "code",
   "execution_count": 1,
   "metadata": {},
   "outputs": [],
   "source": [
    "from espncricinfo.player import Player"
   ]
  },
  {
   "cell_type": "code",
   "execution_count": 2,
   "metadata": {},
   "outputs": [],
   "source": [
    "p = Player('277916')"
   ]
  },
  {
   "cell_type": "code",
   "execution_count": 3,
   "metadata": {},
   "outputs": [
    {
     "data": {
      "text/plain": [
       "['280431',\n",
       " '58150',\n",
       " '280431',\n",
       " '280431',\n",
       " '375326',\n",
       " '1120086',\n",
       " '1120086',\n",
       " '1120086',\n",
       " '56544',\n",
       " '56441']"
      ]
     },
     "execution_count": 3,
     "metadata": {},
     "output_type": "execute_result"
    }
   ],
   "source": [
    "p.recent_matches"
   ]
  },
  {
   "cell_type": "code",
   "execution_count": 4,
   "metadata": {},
   "outputs": [],
   "source": [
    "#Squads :\n",
    "\n",
    "odi_ind_12 = ['Rohit Sharma:576', 'Shikhar Dhawan:1446', 'Virat Kohli:1413', 'Ambati Rayudu:6311', 'Lokesh Rahul:8733', 'Rishabh Pant:10744', \\\n",
    "         'MS Dhoni:265', 'Kedar Jadhav:1851', 'Vijay Shankar:8204', 'Kuldeep Yadav:8292', \\    \n",
    "         'Siddarth Kaul:1828', 'Mohammed Shami:7909', 'Jasprit Bumrah:9311', 'Yuzvendra Chahal:7910', 'Ravindra Jadeja:587' ]\n",
    "\n",
    "odi_ind_345 = [ 'Rohit Sharma:576', 'Shikhar Dhawan:1446', 'Virat Kohli:1413', 'Ambati Rayudu:6311', 'Lokesh Rahul:8733', 'Rishabh Pant:10744', \\\n",
    "          'MS Dhoni:265', 'Kedar Jadhav:1851', 'Vijay Shankar:8204', 'Bhuvneshwar Kumar:1726', 'Kuldeep Yadav:8292', 'Mohammed Shami:7909',  \\\n",
    "          'Jasprit Bumrah:9311', 'Yuzvendra Chahal:7910', 'Ravindra Jadeja:587' ]\n",
    "\n",
    "odi_aus = [ 'Aaron Finch:1643', 'Alex Carey:9200', 'Usman Khawaja:6635', 'Shaun Marsh:563', 'D Arcy Short:11050', 'Peter Handscomb:8159', \\\n",
    "           'Marcus Stoinis:8989', 'Glenn Maxwell:7662', 'Jhye Richardson:10280', 'Ashton Turner:8506', 'Pat Cummins:8095', 'Kane Richardson:6262',\\\n",
    "           'Nathan Coulter-Nile:7774', 'Jason Behrendorff:7773', 'Nathan Lyon:7850', 'Adam Zampa:8642' ]\n"
   ]
  },
  {
   "cell_type": "code",
   "execution_count": null,
   "metadata": {},
   "outputs": [],
   "source": []
  }
 ],
 "metadata": {
  "kernelspec": {
   "display_name": "Python 3",
   "language": "python",
   "name": "python3"
  },
  "language_info": {
   "codemirror_mode": {
    "name": "ipython",
    "version": 3
   },
   "file_extension": ".py",
   "mimetype": "text/x-python",
   "name": "python",
   "nbconvert_exporter": "python",
   "pygments_lexer": "ipython3",
   "version": "3.5.2"
  }
 },
 "nbformat": 4,
 "nbformat_minor": 2
}
